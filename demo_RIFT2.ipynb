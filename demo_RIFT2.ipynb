{
 "cells": [
  {
   "cell_type": "code",
   "execution_count": null,
   "metadata": {},
   "outputs": [],
   "source": [
    "import matlab.engine\n",
    "import cv2 as cv\n",
    "eng = matlab.engine.start_matlab()\n",
    "print('Finish starting matlab engine ...')\n"
   ]
  },
  {
   "cell_type": "code",
   "execution_count": null,
   "metadata": {},
   "outputs": [],
   "source": [
    "im1 = eng.im2uint8(eng.imread('opt1.jpg'))\n",
    "im2 = eng.im2uint8(eng.imread('opt2.jpg'))\n",
    "\n",
    "print(\"Finish reading images ...\")"
   ]
  },
  {
   "cell_type": "code",
   "execution_count": null,
   "metadata": {},
   "outputs": [],
   "source": [
    "key1 = eng.FeatureDetection(im1, 4.0, 6.0, 5000.0)\n",
    "print(key1.size)\n",
    "\n",
    "key2 = eng.FeatureDetection(im2, 4.0, 6.0, 5000.0)\n",
    "print(\"Finish feature detection ...\")\n"
   ]
  },
  {
   "cell_type": "code",
   "execution_count": null,
   "metadata": {},
   "outputs": [],
   "source": [
    "kpts1 = eng.kptsOrientation(key1, m1, 1, 96)\n",
    "kpts2 = eng.kptsOrientation(key2, m2, 1, 96)\n",
    "print('Finish main orientation calculation ...')"
   ]
  },
  {
   "cell_type": "code",
   "execution_count": null,
   "metadata": {},
   "outputs": [],
   "source": [
    "des1 = eng.FeatureDescribe(im1, eo1, kpts1, 96, 6, 6)\n",
    "des2 = eng.FeatureDescribe(im2, eo2, kpts2, 96, 6, 6)\n",
    "print('Finish feature description ...')"
   ]
  },
  {
   "cell_type": "code",
   "execution_count": null,
   "metadata": {},
   "outputs": [],
   "source": [
    "indexPairs,matchmetric = eng.matchFeatures(des1',des2','MaxRatio',1,'MatchThreshold', 100)\n",
    "kpts1 = kpts1.T\n",
    "kpts2 = kpts2.T\n",
    "matchedPoints1 = kpts1[indexPairs[:, 1], 1:2]\n",
    "matchedPoints2 = kpts2[indexPairs[:, 2], 1:2]\n",
    "[matchedPoints2,IA]=eng.unique(matchedPoints2,'rows')\n",
    "matchedPoints1=matchedPoints1[IA,:]\n",
    "print('Finish feature matching ...')"
   ]
  },
  {
   "cell_type": "code",
   "execution_count": null,
   "metadata": {},
   "outputs": [],
   "source": [
    "H=eng.FSC(matchedPoints1,matchedPoints2,'similarity',3);\n",
    "Y_=H*[matchedPoints1.T;ones(1,size(matchedPoints1,1))];\n",
    "Y_[1,:]=Y_[1,:]./Y_[3,:]\n",
    "Y_[2,:]=Y_[2,:]./Y_[3,:]\n",
    "E=eng.sqrt(eng.sum(Y_[1:2,:]-matchedPoints2.T).^2)\n",
    "inliersIndex=E<3\n",
    "cleanedPoints1 = matchedPoints1[inliersIndex, :]\n",
    "cleanedPoints2 = matchedPoints2[inliersIndex, :]\n",
    "print('Finish outlier removal ...')"
   ]
  }
 ],
 "metadata": {
  "kernelspec": {
   "display_name": "torch",
   "language": "python",
   "name": "python3"
  },
  "language_info": {
   "codemirror_mode": {
    "name": "ipython",
    "version": 3
   },
   "file_extension": ".py",
   "mimetype": "text/x-python",
   "name": "python",
   "nbconvert_exporter": "python",
   "pygments_lexer": "ipython3",
   "version": "3.7.10"
  },
  "orig_nbformat": 4
 },
 "nbformat": 4,
 "nbformat_minor": 2
}
